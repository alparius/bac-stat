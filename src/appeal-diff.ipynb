{
 "cells": [
  {
   "cell_type": "code",
   "execution_count": 1,
   "metadata": {},
   "outputs": [],
   "source": [
    "import pandas as pd\n",
    "import numpy as np\n",
    "import matplotlib.pyplot as plt\n"
   ]
  },
  {
   "cell_type": "code",
   "execution_count": 2,
   "metadata": {
    "scrolled": true
   },
   "outputs": [
    {
     "name": "stderr",
     "output_type": "stream",
     "text": [
      "C:\\Users\\cseke\\anaconda3\\lib\\site-packages\\IPython\\core\\interactiveshell.py:3165: DtypeWarning: Columns (13,14) have mixed types.Specify dtype option on import or set low_memory=False.\n",
      "  has_raised = await self.run_ast_nodes(code_ast.body, cell_name,\n"
     ]
    }
   ],
   "source": [
    "results_2019 = pd.read_csv(\"../data/bac-results-2019.csv\", index_col=0)\n",
    "results_2020 = pd.read_csv(\"../data/bac-results-2020.csv\", index_col=0)\n",
    "results_2021 = pd.read_csv(\"../data/bac-results-2021.csv\", index_col=0)\n",
    "\n",
    "results_2019 = results_2019.apply(pd.to_numeric, errors='coerce').fillna(results_2019)\n",
    "results_2020 = results_2020.apply(pd.to_numeric, errors='coerce').fillna(results_2020)\n",
    "results_2021 = results_2021.apply(pd.to_numeric, errors='coerce').fillna(results_2021)\n",
    "\n",
    "results_2019.fillna('', inplace=True)\n",
    "results_2020.fillna('', inplace=True)\n",
    "results_2021.fillna('', inplace=True)"
   ]
  },
  {
   "cell_type": "code",
   "execution_count": 3,
   "metadata": {},
   "outputs": [
    {
     "name": "stdout",
     "output_type": "stream",
     "text": [
      "396912\n",
      "20921\n",
      "417833\n"
     ]
    }
   ],
   "source": [
    "ro = 'romanian_written_final'\n",
    "mo = 'mother_tongue_written_final'\n",
    "ma = 'mandatory_subject_written_final'\n",
    "el = 'elective_subject_written_final'\n",
    "\n",
    "results_2019_2 = results_2019[results_2019[[ro, mo, ma, el]].applymap(lambda x: np.isreal(x) or x == '').all(1)]\n",
    "\n",
    "results_all = pd.concat([results_2019_2, results_2020, results_2021], ignore_index=True, sort=False)\n",
    "\n",
    "nr_romanian_only = len(results_all[results_all['mother_tongue'] == ''])\n",
    "nr_romanian_plus = len(results_all[results_all['mother_tongue'] != ''])\n",
    "print(nr_romanian_only)\n",
    "print(nr_romanian_plus)\n",
    "print(nr_romanian_only + nr_romanian_plus)"
   ]
  },
  {
   "cell_type": "code",
   "execution_count": 6,
   "metadata": {},
   "outputs": [
    {
     "name": "stdout",
     "output_type": "stream",
     "text": [
      "0.40380446633573197\n",
      "0.4321763511553708\n",
      "\n",
      "Romanians' appeal: 0.203\n",
      "minorities' appeal: 0.152\n"
     ]
    }
   ],
   "source": [
    "ro2 = 'romanian_written'\n",
    "mo2 = 'mother_tongue_written'\n",
    "ma2 = 'mandatory_subject_written'\n",
    "el2 = 'elective_subject_written'\n",
    "results_2019_3 = results_2019_2[results_2019_2[[ro2, mo2, ma2, el2]].applymap(lambda x: np.isreal(x) or x == '').all(1)]\n",
    "results_all = pd.concat([results_2019_3, results_2020, results_2021], ignore_index=True, sort=False)\n",
    "\n",
    "romanian_only_results = results_all[ \\\n",
    "    (results_all['mother_tongue'] == '') & \\\n",
    "    (results_all['romanian_written_final'] >= 1.0)]\n",
    "romanian_plus_results = results_all[ \\\n",
    "    (results_all['mother_tongue'] != '') & \\\n",
    "    (results_all['romanian_written_final'] >= 1.0)]\n",
    "\n",
    "romanian_only_results = romanian_only_results.replace('', np.nan)\n",
    "romanian_plus_results = romanian_plus_results.replace('', np.nan)\n",
    "\n",
    "romanian_only_results_filtered = romanian_only_results[ \\\n",
    "    (romanian_only_results['mandatory_subject_written_final'] >= 1.0) & \\\n",
    "    (romanian_only_results['elective_subject_written_final'] >= 1.0)].copy()\n",
    "romanian_plus_results_filtered = romanian_plus_results[ \\\n",
    "    (romanian_plus_results['mandatory_subject_written_final'] >= 1.0) & \\\n",
    "    (romanian_plus_results['elective_subject_written_final'] >= 1.0) & \\\n",
    "    (romanian_plus_results['mother_tongue_written_final'] >= 1.0)].copy()\n",
    "\n",
    "romanian_only_results_filtered['inc_ro'] = romanian_only_results_filtered[ro] - romanian_only_results_filtered[ro2]\n",
    "romanian_only_results_filtered['inc_mo'] = romanian_only_results_filtered[mo] - romanian_only_results_filtered[mo2]\n",
    "romanian_only_results_filtered['inc_ma'] = romanian_only_results_filtered[ma] - romanian_only_results_filtered[ma2]\n",
    "romanian_only_results_filtered['inc_el'] = romanian_only_results_filtered[el] - romanian_only_results_filtered[el2]\n",
    "romanian_only_results_filtered.loc[:, 'inc_avg'] = romanian_only_results_filtered.loc[:, ['inc_ro', 'inc_mo', 'inc_ma', 'inc_el']].sum(axis=1)\n",
    "\n",
    "romanian_plus_results_filtered['inc_ro'] = romanian_plus_results_filtered[ro] - romanian_plus_results_filtered[ro2]\n",
    "romanian_plus_results_filtered['inc_mo'] = romanian_plus_results_filtered[mo] - romanian_plus_results_filtered[mo2]\n",
    "romanian_plus_results_filtered['inc_ma'] = romanian_plus_results_filtered[ma] - romanian_plus_results_filtered[ma2]\n",
    "romanian_plus_results_filtered['inc_el'] = romanian_plus_results_filtered[el] - romanian_plus_results_filtered[el2]\n",
    "romanian_plus_results_filtered.loc[:, 'inc_avg'] = romanian_plus_results_filtered.loc[:, ['inc_ro', 'inc_mo', 'inc_ma', 'inc_el']].sum(axis=1)\n",
    "\n",
    "\n",
    "nr_app_only = len(romanian_only_results[romanian_only_results['mandatory_subject_written_appeal'] >= 1.0])\n",
    "nr_app_only += len(romanian_only_results[romanian_only_results['elective_subject_written_appeal'] >= 1.0])\n",
    "nr_app_only += len(romanian_only_results[romanian_only_results['romanian_written_appeal'] >= 1.0])\n",
    "\n",
    "nr_app_plus = len(romanian_plus_results[romanian_plus_results['mandatory_subject_written_appeal'] >= 1.0])\n",
    "nr_app_plus += len(romanian_plus_results[romanian_plus_results['elective_subject_written_appeal'] >= 1.0])\n",
    "nr_app_plus += len(romanian_plus_results[romanian_plus_results['romanian_written_appeal'] >= 1.0])\n",
    "nr_app_plus += len(romanian_plus_results[romanian_plus_results['mother_tongue_written_appeal'] >= 1.0])\n",
    "\n",
    "print(nr_app_only/len(romanian_only_results))\n",
    "print(nr_app_plus/len(romanian_plus_results))\n",
    "\n",
    "print(\"\\nRomanians' appeal: {:0.3f}\".format(romanian_only_results_filtered['inc_avg'].sum() / nr_app_only))\n",
    "print(\"minorities' appeal: {:0.3f}\".format(romanian_plus_results_filtered['inc_avg'].sum() / nr_app_plus))"
   ]
  },
  {
   "cell_type": "code",
   "execution_count": null,
   "metadata": {},
   "outputs": [],
   "source": []
  }
 ],
 "metadata": {
  "kernelspec": {
   "display_name": "Python 3",
   "language": "python",
   "name": "python3"
  },
  "language_info": {
   "codemirror_mode": {
    "name": "ipython",
    "version": 3
   },
   "file_extension": ".py",
   "mimetype": "text/x-python",
   "name": "python",
   "nbconvert_exporter": "python",
   "pygments_lexer": "ipython3",
   "version": "3.8.8"
  }
 },
 "nbformat": 4,
 "nbformat_minor": 4
}
