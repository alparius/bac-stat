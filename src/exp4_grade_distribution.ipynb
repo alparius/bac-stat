{
 "cells": [
  {
   "cell_type": "code",
   "execution_count": 2,
   "metadata": {},
   "outputs": [
    {
     "name": "stdout",
     "output_type": "stream",
     "text": [
      "Collecting tueplots\n",
      "  Downloading tueplots-0.0.3-py3-none-any.whl (18 kB)Note: you may need to restart the kernel to use updated packages.\n",
      "\n",
      "Requirement already satisfied: numpy in c:\\programdata\\anaconda3\\lib\\site-packages (from tueplots) (1.19.2)\n",
      "Requirement already satisfied: matplotlib in c:\\programdata\\anaconda3\\lib\\site-packages (from tueplots) (3.3.2)\n",
      "Requirement already satisfied: cycler>=0.10 in c:\\programdata\\anaconda3\\lib\\site-packages (from matplotlib->tueplots) (0.10.0)\n",
      "Requirement already satisfied: pyparsing!=2.0.4,!=2.1.2,!=2.1.6,>=2.0.3 in c:\\programdata\\anaconda3\\lib\\site-packages (from matplotlib->tueplots) (2.4.7)\n",
      "Requirement already satisfied: pillow>=6.2.0 in c:\\programdata\\anaconda3\\lib\\site-packages (from matplotlib->tueplots) (8.0.1)\n",
      "Requirement already satisfied: kiwisolver>=1.0.1 in c:\\programdata\\anaconda3\\lib\\site-packages (from matplotlib->tueplots) (1.3.0)\n",
      "Requirement already satisfied: certifi>=2020.06.20 in c:\\programdata\\anaconda3\\lib\\site-packages (from matplotlib->tueplots) (2020.6.20)\n",
      "Requirement already satisfied: python-dateutil>=2.1 in c:\\programdata\\anaconda3\\lib\\site-packages (from matplotlib->tueplots) (2.8.1)\n",
      "Requirement already satisfied: six in c:\\programdata\\anaconda3\\lib\\site-packages (from cycler>=0.10->matplotlib->tueplots) (1.15.0)\n",
      "Installing collected packages: tueplots\n",
      "Successfully installed tueplots-0.0.3\n"
     ]
    }
   ],
   "source": [
    "import pandas as pd\n",
    "import numpy as np\n",
    "\n",
    "import matplotlib.pyplot as plt\n",
    "%pip install tueplots\n",
    "from tueplots import bundles"
   ]
  },
  {
   "cell_type": "code",
   "execution_count": 3,
   "metadata": {},
   "outputs": [
    {
     "name": "stderr",
     "output_type": "stream",
     "text": [
      "C:\\ProgramData\\Anaconda3\\lib\\site-packages\\IPython\\core\\interactiveshell.py:3146: DtypeWarning: Columns (13,14) have mixed types.Specify dtype option on import or set low_memory=False.\n",
      "  has_raised = await self.run_ast_nodes(code_ast.body, cell_name,\n"
     ]
    },
    {
     "name": "stdout",
     "output_type": "stream",
     "text": [
      "\n"
     ]
    }
   ],
   "source": [
    "results_2019 = pd.read_csv(\"../data/bac-results-2019.csv\", index_col=0)\n",
    "results_2020 = pd.read_csv(\"../data/bac-results-2020.csv\", index_col=0)\n",
    "results_2021 = pd.read_csv(\"../data/bac-results-2021.csv\", index_col=0)\n",
    "results_2019.fillna('', inplace=True)\n",
    "results_2020.fillna('', inplace=True)\n",
    "results_2021.fillna('', inplace=True)\n",
    "print()"
   ]
  },
  {
   "cell_type": "code",
   "execution_count": 4,
   "metadata": {},
   "outputs": [
    {
     "data": {
      "image/png": "[encoded data removed]",
      "text/plain": [
       "<Figure size 825x509.878 with 1 Axes>"
      ]
     },
     "metadata": {
      "needs_background": "light"
     },
     "output_type": "display_data"
    }
   ],
   "source": [
    "# Plot the distribution of the Romanian exam grades.\n",
    "\n",
    "romanian_only_results = results_2021[(results_2021['mother_tongue'] == '') & (results_2021['romanian_written_final'] > -1)]\n",
    "romanian_plus_results = results_2021[(results_2021['mother_tongue'] != '') & (results_2021['romanian_written_final'] > -1)]\n",
    "\n",
    "with plt.rc_context(bundles.neurips2021(usetex=False, family='serif')):\n",
    "    fig, ax = plt.subplots(dpi=150)\n",
    "\n",
    "    ax.hist(romanian_only_results['romanian_written_final'].to_list(), bins=18, density=True, alpha = 0.3, color='purple', edgecolor='black', linewidth=1, histtype= \"stepfilled\")\n",
    "    ax.hist(romanian_plus_results['romanian_written_final'].to_list(), bins=18, density=True, alpha = 0.3, color='orange', edgecolor='black', linewidth=1, histtype= \"stepfilled\")\n",
    "    \n",
    "    ax.legend([\"Romanians'\", \"Minorities'\"])\n",
    "    ax.set_xlabel(\"Final grade\")\n",
    "    ax.set_ylabel(\"Population %\")\n",
    "\n",
    "    plt.show()\n",
    "    fig.savefig('../doc/plots/exp4_grade_distrib.png', bbox_inches='tight')\n"
   ]
  },
  {
   "cell_type": "code",
   "execution_count": 7,
   "metadata": {},
   "outputs": [
    {
     "name": "stdout",
     "output_type": "stream",
     "text": [
      "7.06018228028413\n",
      "5.744183625912699\n",
      "1.3159986543714313\n",
      "0.5232148269460704\n"
     ]
    }
   ],
   "source": [
    "print(romanian_only_results['romanian_written_final'].mean())\n",
    "print(romanian_plus_results['romanian_written_final'].mean())\n",
    "print(romanian_only_results['romanian_written_final'].mean() - romanian_plus_results['romanian_written_final'].mean())\n",
    "\n",
    "def cohen_d(x1, x2):\n",
    "    n1 = len(x1)\n",
    "    n2 = len(x2)\n",
    "    s1 = np.std(x1, ddof=1)\n",
    "    s2 = np.std(x2, ddof=1)\n",
    "    pooled_std = np.sqrt((((n1 - 1) * s1 ** 2) + ((n1 - 1) * s1 ** 2)) / (n1 + n2 - 2))\n",
    "    return (np.mean(x1) - np.mean(x2)) / pooled_std\n",
    "\n",
    "print(cohen_d(romanian_only_results['romanian_written_final'].to_numpy(), romanian_plus_results['romanian_written_final'].to_numpy()))"
   ]
  },
  {
   "cell_type": "code",
   "execution_count": null,
   "metadata": {},
   "outputs": [],
   "source": []
  }
 ],
 "metadata": {
  "kernelspec": {
   "display_name": "Python 3",
   "language": "python",
   "name": "python3"
  },
  "language_info": {
   "codemirror_mode": {
    "name": "ipython",
    "version": 3
   },
   "file_extension": ".py",
   "mimetype": "text/x-python",
   "name": "python",
   "nbconvert_exporter": "python",
   "pygments_lexer": "ipython3",
   "version": "3.8.5"
  }
 },
 "nbformat": 4,
 "nbformat_minor": 1
}
