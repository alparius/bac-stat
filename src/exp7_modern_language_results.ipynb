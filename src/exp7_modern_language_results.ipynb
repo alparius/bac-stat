{
 "cells": [
  {
   "cell_type": "code",
   "execution_count": 1,
   "metadata": {},
   "outputs": [
    {
     "name": "stdout",
     "output_type": "stream",
     "text": [
      "Requirement already satisfied: tueplots in c:\\users\\cseke\\anaconda3\\envs\\lib\\site-packages (0.0.3)\n",
      "Requirement already satisfied: numpy in c:\\users\\cseke\\anaconda3\\envs\\lib\\site-packages (from tueplots) (1.21.2)\n",
      "Requirement already satisfied: matplotlib in c:\\users\\cseke\\anaconda3\\envs\\lib\\site-packages (from tueplots) (3.4.3)\n",
      "Requirement already satisfied: pillow>=6.2.0 in c:\\users\\cseke\\anaconda3\\envs\\lib\\site-packages (from matplotlib->tueplots) (8.4.0)\n",
      "Requirement already satisfied: kiwisolver>=1.0.1 in c:\\users\\cseke\\anaconda3\\envs\\lib\\site-packages (from matplotlib->tueplots) (1.3.1)\n",
      "Requirement already satisfied: python-dateutil>=2.7 in c:\\users\\cseke\\anaconda3\\envs\\lib\\site-packages (from matplotlib->tueplots) (2.8.2)\n",
      "Requirement already satisfied: pyparsing>=2.2.1 in c:\\users\\cseke\\anaconda3\\envs\\lib\\site-packages (from matplotlib->tueplots) (2.4.7)\n",
      "Requirement already satisfied: cycler>=0.10 in c:\\users\\cseke\\anaconda3\\envs\\lib\\site-packages (from matplotlib->tueplots) (0.10.0)\n",
      "Requirement already satisfied: six in c:\\users\\cseke\\anaconda3\\envs\\lib\\site-packages (from cycler>=0.10->matplotlib->tueplots) (1.16.0)\n",
      "Note: you may need to restart the kernel to use updated packages.\n"
     ]
    }
   ],
   "source": [
    "import pandas as pd\n",
    "import numpy as np\n",
    "\n",
    "import matplotlib.pyplot as plt\n",
    "%pip install tueplots\n",
    "from tueplots import bundles"
   ]
  },
  {
   "cell_type": "code",
   "execution_count": 2,
   "metadata": {
    "scrolled": true
   },
   "outputs": [
    {
     "name": "stderr",
     "output_type": "stream",
     "text": [
      "C:\\Users\\cseke\\anaconda3\\envs\\lib\\site-packages\\IPython\\core\\interactiveshell.py:3441: DtypeWarning: Columns (13,14) have mixed types.Specify dtype option on import or set low_memory=False.\n",
      "  exec(code_obj, self.user_global_ns, self.user_ns)\n"
     ]
    }
   ],
   "source": [
    "results_2019 = pd.read_csv(\"../data/bac-results-2019.csv\", index_col=0)\n",
    "results_2020 = pd.read_csv(\"../data/bac-results-2020.csv\", index_col=0)\n",
    "results_2021 = pd.read_csv(\"../data/bac-results-2021.csv\", index_col=0)\n",
    "\n",
    "# convert to numeric what is possible\n",
    "results_2019 = results_2019.apply(pd.to_numeric, errors='coerce').fillna(results_2019)\n",
    "results_2020 = results_2020.apply(pd.to_numeric, errors='coerce').fillna(results_2020)\n",
    "results_2021 = results_2021.apply(pd.to_numeric, errors='coerce').fillna(results_2021)\n",
    "\n",
    "# replace NaNs with empty strings for easier searchability\n",
    "results_2019.fillna('', inplace=True)\n",
    "results_2020.fillna('', inplace=True)\n",
    "results_2021.fillna('', inplace=True)\n",
    "\n",
    "# combine the three years\n",
    "results_all = pd.concat([results_2019, results_2020, results_2021], ignore_index=True, sort=False)\n",
    "\n",
    "# separate dataset into romanians and minorities\n",
    "ro = results_all[results_all['mother_tongue'] == '']\n",
    "rp = results_all[results_all['mother_tongue'] != '']"
   ]
  },
  {
   "cell_type": "code",
   "execution_count": 8,
   "metadata": {},
   "outputs": [
    {
     "name": "stdout",
     "output_type": "stream",
     "text": [
      "\n",
      "Romanians' average language skill points: 13.108\n",
      "minorities' average language skill points: 13.347\n"
     ]
    }
   ],
   "source": [
    "# 1st approach, assigning a point value to each level and summing it up\n",
    "\n",
    "def calc_points(comp):\n",
    "    points = {'A1':1, 'A2':2, 'B1':3, 'B2':4}\n",
    "    p_sum = 0\n",
    "    if isinstance(comp, str):\n",
    "        for x in comp.split('-'):\n",
    "            p_sum += points.get(x, 0)\n",
    "    return p_sum\n",
    "\n",
    "ro.loc[:, 'lang_points'] = ro.apply(lambda x: calc_points(x['modern_language_results']), axis=1)\n",
    "rp.loc[:, 'lang_points'] = rp.apply(lambda x: calc_points(x['modern_language_results']), axis=1)\n",
    "\n",
    "print(\"\\nRomanians' average language skill points: {:0.3f}\".format(ro['lang_points'].mean()))\n",
    "print(\"minorities' average language skill points: {:0.3f}\".format(rp['lang_points'].mean()))\n",
    "# -> fairly similar"
   ]
  },
  {
   "cell_type": "code",
   "execution_count": 16,
   "metadata": {},
   "outputs": [
    {
     "data": {
      "text/plain": [
       "<matplotlib.legend.Legend at 0x2dc25d59e50>"
      ]
     },
     "execution_count": 16,
     "metadata": {},
     "output_type": "execute_result"
    },
    {
     "data": {
      "image/png": "[encoded data removed]",
      "text/plain": [
       "<Figure size 900x600 with 1 Axes>"
      ]
     },
     "metadata": {
      "needs_background": "light"
     },
     "output_type": "display_data"
    }
   ],
   "source": [
    "# 2nd approach, looking at the distribution of the language skills\n",
    "\n",
    "def skill_list(comp):\n",
    "    if isinstance(comp, str):\n",
    "        return comp.split('-')\n",
    "    return []\n",
    "\n",
    "ro.loc[:, 'lang_skills'] = ro.apply(lambda x: skill_list(x['modern_language_results']), axis=1)\n",
    "rp.loc[:, 'lang_skills'] = rp.apply(lambda x: skill_list(x['modern_language_results']), axis=1)\n",
    "\n",
    "\n",
    "def plot_skill_distribution(df, ax):\n",
    "    # gather all skill levels into a list\n",
    "    skills = []\n",
    "    for skill_list in df['lang_skills'].to_list():\n",
    "        for skill in skill_list:\n",
    "            skills.append(skill)\n",
    "\n",
    "    # consolidate list\n",
    "    skills_dict = {i:skills.count(i) for i in set(skills)}\n",
    "\n",
    "    # normalize by population size and plot\n",
    "    n = len(skills) / 5\n",
    "    x = ['A1', 'A2', 'B1', 'B2']\n",
    "    y = [skills_dict['A1']/n, skills_dict['A2']/n, skills_dict['B1']/n, skills_dict['B2']/n]\n",
    "    ax.bar(x, y, align='center', alpha=.5)\n",
    "\n",
    "\n",
    "fig, ax = plt.subplots(dpi=150)\n",
    "plot_skill_distribution(ro, ax)\n",
    "plot_skill_distribution(rp, ax)\n",
    "ax.set_title(\"Distribution of language skill levels\")\n",
    "ax.set_xlabel('Skill level')\n",
    "ax.set_ylabel('%')\n",
    "ax.legend([\"Romanians\", \"minorities\"])\n",
    "# -> minorities have more B2 and B1, and less A2 and A1"
   ]
  }
 ],
 "metadata": {
  "kernelspec": {
   "display_name": "Python 3",
   "language": "python",
   "name": "python3"
  },
  "language_info": {
   "codemirror_mode": {
    "name": "ipython",
    "version": 3
   },
   "file_extension": ".py",
   "mimetype": "text/x-python",
   "name": "python",
   "nbconvert_exporter": "python",
   "pygments_lexer": "ipython3",
   "version": "3.8.12"
  }
 },
 "nbformat": 4,
 "nbformat_minor": 4
}
