{
 "nbformat": 4,
 "nbformat_minor": 0,
 "metadata": {
  "colab": {
   "name": "Untitled2.ipynb",
   "provenance": []
  },
  "kernelspec": {
   "name": "python3",
   "display_name": "Python 3"
  },
  "language_info": {
   "name": "python"
  }
 },
 "cells": [
  {
   "cell_type": "code",
   "execution_count": 2,
   "metadata": {
    "id": "RFc-LjzVv2P8"
   },
   "outputs": [],
   "source": [
    "import requests\n",
    "\n",
    "URL = 'http://static.bacalaureat.edu.ro/2021/rapoarte/rezultate/alfabetic/page_1.html'\n",
    "page = requests.get(URL)"
   ]
  },
  {
   "cell_type": "code",
   "source": [
    "from bs4 import BeautifulSoup\n",
    "\n",
    "soup = BeautifulSoup(page.content, 'html.parser')\n",
    "main_table = soup.find(id='mainTable')\n",
    "for row in main_table.find_all('tr'):\n",
    "   print(row)"
   ],
   "metadata": {
    "id": "PKVg5QqTwPGd"
   },
   "execution_count": null,
   "outputs": []
  },
  {
   "cell_type": "code",
   "source": [
    "import lxml.html\n",
    "\n",
    "doc = lxml.html.fromstring(page.content)\n",
    "id = doc.xpath(\"//*[@id='mainTable']\")\n",
    "print(id)"
   ],
   "metadata": {
    "id": "0b2Vc5MnwPUi"
   },
   "execution_count": null,
   "outputs": []
  },
  {
   "cell_type": "code",
   "source": [
    "import pandas as pd\n",
    "\n",
    "df_list = pd.read_html(page.text)\n",
    "df = df_list[4]\n",
    "print(df.to_string())"
   ],
   "metadata": {
    "id": "6pQb2-wjwPkB"
   },
   "execution_count": null,
   "outputs": []
  },
  {
   "cell_type": "markdown",
   "source": [
    "Static scraping did not work out, since some cells of the dataset contain JavaScript code and are unrendered this way. Thus we resorted to using Selenium, even though we do not have to interact with the page.\n",
    "\n",
    "This results in a somewhat more complicated dependency stack and setup, but the code for scraping remains clear."
   ],
   "metadata": {
    "id": "y7TcIsKBwqzo"
   }
  }
 ]
}